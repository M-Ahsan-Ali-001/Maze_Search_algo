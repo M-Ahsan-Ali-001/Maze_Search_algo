{
 "cells": [
  {
   "cell_type": "code",
   "execution_count": 147,
   "metadata": {},
   "outputs": [
    {
     "name": "stdout",
     "output_type": "stream",
     "text": [
      "{(0, 0): [(0, 1), (1, 0)], (0, 1): [(0, 2), (0, 0), (1, 1)], (0, 2): [(0, 3), (0, 1), (1, 2)], (0, 3): [(0, 2), (1, 3)], (1, 0): [(0, 0), (1, 1), (2, 0)], (1, 1): [(0, 1), (1, 2), (1, 0), (2, 1)], (1, 2): [(0, 2), (1, 3), (1, 1), (2, 2)], (1, 3): [(0, 3), (1, 2), (2, 3)], (2, 0): [(1, 0), (2, 1), (3, 0)], (2, 1): [(1, 1), (2, 2), (2, 0), (3, 1)], (2, 2): [(1, 2), (2, 3), (2, 1), (3, 2)], (2, 3): [(1, 3), (2, 2), (3, 3)], (3, 0): [(2, 0), (3, 1), (4, 0)], (3, 1): [(2, 1), (3, 2), (3, 0), (4, 1)], (3, 2): [(2, 2), (3, 3), (3, 1), (4, 2)], (3, 3): [(2, 3), (3, 2), (4, 3)], (4, 0): [(3, 0), (4, 1)], (4, 1): [(3, 1), (4, 2), (4, 0)], (4, 2): [(3, 2), (4, 3), (4, 1)], (4, 3): [(3, 3), (4, 2)]}\n"
     ]
    }
   ],
   "source": [
    "maze = [\n",
    "    ['A',1,1,1],\n",
    "    [0,1,1,0],\n",
    "    [0,0,0,0],\n",
    "    [0,1,1,0],\n",
    "    [0,0,1,'G']\n",
    "]\n",
    "\n",
    "\n",
    "\n",
    "moves={}\n",
    "row=5\n",
    "def neigbhoursFinder(row,col):\n",
    "    for x in range (0,row):\n",
    "        for y in range(0,col):\n",
    "            #print(\"x ,y :\",x,y)\n",
    "            listt=[]\n",
    "        \n",
    "            if x-1 >=0:\n",
    "                listt.append((x-1,y))#top\n",
    "       \n",
    "            if(y+1<=(col-1)): # right\n",
    "             #    print(maze[x][y+1])\n",
    "                 listt.append((x,y+1))\n",
    "            if y-1>=0:#left\n",
    "                     listt.append((x,y-1))\n",
    "            if x+1<(row):\n",
    "                    listt.append((x+1,y))\n",
    "            moves[(x,y)]=listt\n",
    "    \n",
    "       \n",
    "        \n",
    "        \n",
    "\n",
    "    \n",
    "            \n",
    "neigbhoursFinder(5,4)           \n",
    "print(moves)\n",
    "            \n",
    "    \n",
    "    \n",
    "    \n",
    "\n"
   ]
  },
  {
   "cell_type": "code",
   "execution_count": 152,
   "metadata": {},
   "outputs": [],
   "source": [
    "from queue import Queue\n",
    "import numpy as np\n",
    "import matplotlib.pyplot as plt\n",
    "\n",
    "\n",
    "\n",
    "def bfsFinder(start,goal):\n",
    "    \n",
    "    explored=[]\n",
    "    frontier=Queue()\n",
    "    route=[]\n",
    "    row = [0,1,2,3]\n",
    "    col =[0,1,2,3,4]\n",
    "\n",
    "  \n",
    "    route.append(start)\n",
    "    frontier.put((start,[start]))\n",
    "    \n",
    "    while  not frontier.empty() :\n",
    "        hold ,path = frontier.get()\n",
    "       \n",
    "        explored.append(hold)\n",
    "    \n",
    "        if hold == goal:\n",
    "            print(\"correct sequecne:\",path)\n",
    "            print(\"Goal Reached\")\n",
    "            break\n",
    "        else:\n",
    "             \n",
    "             \n",
    "                lent = len(moves[hold])\n",
    "                lt = moves[hold]\n",
    "               \n",
    "                \n",
    "                \n",
    "                      \n",
    "                for x in range (0,(lent)):\n",
    "                    hd= lt[x]\n",
    "                 \n",
    "                    if  maze[hd[0]][hd[1]] != 1 and lt[x] not in explored :\n",
    "                   \n",
    "                        frontier.put((lt[x],path + [lt[x]]))\n",
    "                        if lt[x] not in route:\n",
    "                            route.append(lt[x])\n",
    "                    if  maze[hd[0]][hd[1]] == 1 and lt[x] not in explored:\n",
    "                        explored.append(lt[x])\n",
    "    print(\"Nodes traversed\")\n",
    "    for x in explored:\n",
    "        print(\"(\", maze[x[0]][x[1]]  ,\")\",x,end=\" \")\n",
    "        if(x != route[(len(route)-1)]):\n",
    "            print(\"->\",end=\" \")\n",
    "    \n",
    "\n",
    "\n",
    "\n",
    "                        \n",
    "\n",
    "        \n",
    "    \n",
    "    \n",
    "    \n",
    "\n"
   ]
  },
  {
   "cell_type": "code",
   "execution_count": 153,
   "metadata": {},
   "outputs": [],
   "source": [
    "def dfsFinder(start,goal):\n",
    "    \n",
    "    explored=[]\n",
    "    frontier=[]\n",
    "    route=[]\n",
    "    row = [0,1,2,3]\n",
    "    col =[0,1,2,3,4]\n",
    "\n",
    "  \n",
    "    route.append(start)\n",
    "    frontier.append((start,[start]))\n",
    "   \n",
    " \n",
    "   \n",
    "    while  len (frontier) > 0  :\n",
    "        hold ,path = frontier.pop()\n",
    "        \n",
    "        explored.append(hold)\n",
    "     \n",
    "        if hold == goal:\n",
    "            print(\"correct sequecne:\",path)\n",
    "            print(\"Goal Reached\")\n",
    "            break\n",
    "        else:\n",
    "             \n",
    "              \n",
    "                lent = len(moves[hold])\n",
    "                lt = moves[hold]\n",
    "               \n",
    "                \n",
    "                \n",
    "                      \n",
    "                for x in range (0,(lent)):\n",
    "                    hd= lt[x]\n",
    "                \n",
    "                   \n",
    "                    if  maze[hd[0]][hd[1]] != 1 and lt[x] not in explored :\n",
    "                        \n",
    "                        \n",
    "                        if  lt[x] not in path:\n",
    "                            frontier.append((lt[x],list(path) + [lt[x]]))\n",
    "                        if lt[x] not in route:\n",
    "                            route.append(lt[x])\n",
    "                    if  maze[hd[0]][hd[1]] == 1 and lt[x] not in explored:\n",
    "                        explored.append(lt[x])\n",
    "    print(route)\n",
    "    print(\"Nodes traversed\")\n",
    "    for x in explored:\n",
    "        print(\"(\", maze[x[0]][x[1]]  ,\")\",x,end=\" \")\n",
    "        if(x != route[(len(route)-1)]):\n",
    "            print(\"->\",end=\" \")\n",
    "    "
   ]
  },
  {
   "cell_type": "code",
   "execution_count": 154,
   "metadata": {},
   "outputs": [
    {
     "name": "stdout",
     "output_type": "stream",
     "text": [
      "correct sequecne: [(0, 0), (1, 0), (2, 0), (2, 1), (2, 2), (2, 3), (3, 3), (4, 3)]\n",
      "Goal Reached\n",
      "[(0, 0), (1, 0), (2, 0), (2, 1), (3, 0), (4, 0), (4, 1), (2, 2), (2, 3), (1, 3), (3, 3), (4, 3)]\n",
      "Nodes traversed\n",
      "( A ) (0, 0) -> ( 1 ) (0, 1) -> ( 0 ) (1, 0) -> ( 1 ) (1, 1) -> ( 0 ) (2, 0) -> ( 0 ) (3, 0) -> ( 1 ) (3, 1) -> ( 0 ) (4, 0) -> ( 0 ) (4, 1) -> ( 1 ) (4, 2) -> ( 0 ) (2, 1) -> ( 0 ) (2, 2) -> ( 1 ) (1, 2) -> ( 1 ) (3, 2) -> ( 0 ) (2, 3) -> ( 0 ) (3, 3) -> ( G ) (4, 3) "
     ]
    }
   ],
   "source": [
    "if __name__ == \"__main__\":\n",
    "    dfsFinder((0,0),(4,3))\n",
    "\n",
    "   "
   ]
  },
  {
   "cell_type": "code",
   "execution_count": 155,
   "metadata": {},
   "outputs": [
    {
     "name": "stdout",
     "output_type": "stream",
     "text": [
      "correct sequecne: [(0, 0), (1, 0), (2, 0), (2, 1), (2, 2), (2, 3), (3, 3), (4, 3)]\n",
      "Goal Reached\n",
      "Nodes traversed\n",
      "( A ) (0, 0) -> ( 1 ) (0, 1) -> ( 0 ) (1, 0) -> ( 1 ) (1, 1) -> ( 0 ) (2, 0) -> ( 0 ) (2, 1) -> ( 1 ) (3, 1) -> ( 0 ) (3, 0) -> ( 0 ) (2, 2) -> ( 1 ) (1, 2) -> ( 1 ) (3, 2) -> ( 0 ) (4, 0) -> ( 0 ) (2, 3) -> ( 0 ) (4, 1) -> ( 1 ) (4, 2) -> ( 0 ) (1, 3) -> ( 1 ) (0, 3) -> ( 0 ) (3, 3) -> ( G ) (4, 3) "
     ]
    }
   ],
   "source": [
    "    bfsFinder((0,0),(4,3))"
   ]
  },
  {
   "cell_type": "code",
   "execution_count": 141,
   "metadata": {},
   "outputs": [
    {
     "data": {
      "text/plain": [
       "<matplotlib.image.AxesImage at 0x1eba3ff2d60>"
      ]
     },
     "execution_count": 141,
     "metadata": {},
     "output_type": "execute_result"
    },
    {
     "data": {
      "image/png": "[encoded data removed]",
      "text/plain": [
       "<Figure size 432x288 with 1 Axes>"
      ]
     },
     "metadata": {
      "needs_background": "light"
     },
     "output_type": "display_data"
    }
   ],
   "source": [
    "    matrix = [\n",
    "    [3,1,1,1],\n",
    "    [0,1,1,0.1],\n",
    "    [0,0,0,0],\n",
    "    [0.1,1,1,0],\n",
    "    [0.1,0.1,1,3]\n",
    "    ]\n",
    "    cmap = colors.ListedColormap(['cyan','red','blue','green'])\n",
    "    data=np.array(matrix)\n",
    "    fig, ax = plt.subplots()\n",
    "    ax.imshow(data, cmap=cmap)\n",
    "\n",
    "    for (i, j), z in np.ndenumerate(data):\n",
    "         ax.text(j, i, '{}'.format(z), ha='center', va='center', size=12)\n",
    "    \n",
    "    plt.imshow(matrix, cmap=cmap, interpolation='nearest')\n"
   ]
  }
 ],
 "metadata": {
  "kernelspec": {
   "display_name": "Python 3",
   "language": "python",
   "name": "python3"
  },
  "language_info": {
   "codemirror_mode": {
    "name": "ipython",
    "version": 3
   },
   "file_extension": ".py",
   "mimetype": "text/x-python",
   "name": "python",
   "nbconvert_exporter": "python",
   "pygments_lexer": "ipython3",
   "version": "3.8.5"
  }
 },
 "nbformat": 4,
 "nbformat_minor": 5
}
